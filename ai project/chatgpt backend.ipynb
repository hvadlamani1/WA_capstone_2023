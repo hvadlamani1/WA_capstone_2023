{
 "cells": [
  {
   "cell_type": "code",
   "execution_count": 1,
   "id": "e752a3ee",
   "metadata": {},
   "outputs": [
    {
     "name": "stdout",
     "output_type": "stream",
     "text": [
      " * Serving Flask app '__main__'\n",
      " * Debug mode: on\n"
     ]
    },
    {
     "name": "stderr",
     "output_type": "stream",
     "text": [
      "WARNING: This is a development server. Do not use it in a production deployment. Use a production WSGI server instead.\n",
      " * Running on http://127.0.0.1:5000\n",
      "Press CTRL+C to quit\n",
      " * Restarting with watchdog (fsevents)\n",
      "Traceback (most recent call last):\n",
      "  File \"/Users/himavadlamani/anaconda3/lib/python3.10/site-packages/ipykernel_launcher.py\", line 15, in <module>\n",
      "    from ipykernel import kernelapp as app\n",
      "  File \"/Users/himavadlamani/anaconda3/lib/python3.10/site-packages/ipykernel/__init__.py\", line 5, in <module>\n",
      "    from .connect import *  # noqa\n",
      "  File \"/Users/himavadlamani/anaconda3/lib/python3.10/site-packages/ipykernel/connect.py\", line 11, in <module>\n",
      "    import jupyter_client\n",
      "  File \"/Users/himavadlamani/anaconda3/lib/python3.10/site-packages/jupyter_client/__init__.py\", line 8, in <module>\n",
      "    from .asynchronous import AsyncKernelClient  # noqa\n",
      "  File \"/Users/himavadlamani/anaconda3/lib/python3.10/site-packages/jupyter_client/asynchronous/__init__.py\", line 1, in <module>\n",
      "    from .client import AsyncKernelClient  # noqa\n",
      "  File \"/Users/himavadlamani/anaconda3/lib/python3.10/site-packages/jupyter_client/asynchronous/client.py\", line 8, in <module>\n",
      "    from jupyter_client.client import KernelClient\n",
      "  File \"/Users/himavadlamani/anaconda3/lib/python3.10/site-packages/jupyter_client/client.py\", line 21, in <module>\n",
      "    from .connect import ConnectionFileMixin\n",
      "  File \"/Users/himavadlamani/anaconda3/lib/python3.10/site-packages/jupyter_client/connect.py\", line 27, in <module>\n",
      "    from jupyter_core.paths import jupyter_data_dir\n",
      "  File \"/Users/himavadlamani/anaconda3/lib/python3.10/site-packages/jupyter_core/paths.py\", line 19, in <module>\n",
      "    from pathlib import Path\n",
      "  File \"/Users/himavadlamani/anaconda3/lib/python3.10/site-packages/pathlib.py\", line 10, in <module>\n",
      "    from collections import Sequence\n",
      "ImportError: cannot import name 'Sequence' from 'collections' (/Users/himavadlamani/anaconda3/lib/python3.10/collections/__init__.py)\n"
     ]
    },
    {
     "ename": "SystemExit",
     "evalue": "1",
     "output_type": "error",
     "traceback": [
      "An exception has occurred, use %tb to see the full traceback.\n",
      "\u001b[0;31mSystemExit\u001b[0m\u001b[0;31m:\u001b[0m 1\n"
     ]
    },
    {
     "name": "stderr",
     "output_type": "stream",
     "text": [
      "/Users/himavadlamani/anaconda3/lib/python3.10/site-packages/IPython/core/interactiveshell.py:3468: UserWarning: To exit: use 'exit', 'quit', or Ctrl-D.\n",
      "  warn(\"To exit: use 'exit', 'quit', or Ctrl-D.\", stacklevel=1)\n"
     ]
    }
   ],
   "source": [
    "from flask import Flask, request, jsonify\n",
    "import openai\n",
    "import requests\n",
    "\n",
    "# Set up the Flask application\n",
    "app = Flask(__name__)\n",
    "\n",
    "# Set up the OpenAI API key\n",
    "openai.api_key = \"your_api_key_here\"\n",
    "\n",
    "# Define a function to get the answer from ChatGPT\n",
    "def get_answer(question):\n",
    "    # Send the question to ChatGPT and get the response\n",
    "    response = openai.Completion.create(\n",
    "        engine=\"davinci\",\n",
    "        prompt=f\"What is {question}?\",\n",
    "        max_tokens=1024,\n",
    "        n=1,\n",
    "        stop=None,\n",
    "        temperature=0.7,\n",
    "    )\n",
    "    answer = response.choices[0].text.strip()\n",
    "    return answer\n",
    "\n",
    "# Define a function to get the content of the URL\n",
    "def get_url_content(url):\n",
    "    response = requests.get(url)\n",
    "    content = response.content.decode(\"utf-8\")\n",
    "    return content\n",
    "\n",
    "# Define the Flask endpoint for answering questions\n",
    "@app.route(\"/answer\", methods=[\"POST\"])\n",
    "def answer_question():\n",
    "    # Get the question from the request\n",
    "    question = request.json[\"question\"]\n",
    "    # Get the content of the URL\n",
    "    url = \"https://university.zoominfo.com/learn/article/introduction-to-ringlead-with-guides\"\n",
    "    content = get_url_content(url)\n",
    "    # Check if the content is related to Ringlead\n",
    "    if \"Ringlead\" not in content:\n",
    "        return jsonify({\"error\": \"This URL is not related to Ringlead.\"})\n",
    "    # Get the answer from ChatGPT\n",
    "    answer = get_answer(question)\n",
    "    # Return the answer\n",
    "    return jsonify({\"answer\": answer})\n",
    "\n",
    "# Start the Flask application\n",
    "if __name__ == \"__main__\":\n",
    "    app.run(debug=True)\n"
   ]
  },
  {
   "cell_type": "code",
   "execution_count": null,
   "id": "0f63a2f9",
   "metadata": {},
   "outputs": [],
   "source": []
  }
 ],
 "metadata": {
  "kernelspec": {
   "display_name": "Python 3 (ipykernel)",
   "language": "python",
   "name": "python3"
  },
  "language_info": {
   "codemirror_mode": {
    "name": "ipython",
    "version": 3
   },
   "file_extension": ".py",
   "mimetype": "text/x-python",
   "name": "python",
   "nbconvert_exporter": "python",
   "pygments_lexer": "ipython3",
   "version": "3.10.9"
  }
 },
 "nbformat": 4,
 "nbformat_minor": 5
}
